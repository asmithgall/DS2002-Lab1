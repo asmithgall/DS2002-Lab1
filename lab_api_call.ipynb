{
 "cells": [
  {
   "cell_type": "code",
   "execution_count": 2,
   "metadata": {},
   "outputs": [],
   "source": [
    "import json\n",
    "import pandas as pd\n",
    "import requests\n",
    "from datetime import date"
   ]
  },
  {
   "cell_type": "code",
   "execution_count": 3,
   "metadata": {},
   "outputs": [],
   "source": [
    "api_key = \"96b6cae048b16e876ac91564d0834d2e\"\n",
    "#We are using the TMDb API to collect revenue data on movies"
   ]
  },
  {
   "cell_type": "code",
   "execution_count": 4,
   "metadata": {},
   "outputs": [],
   "source": [
    "#build the url to get movies sorted by there revenue data\n",
    "url = 'https://api.themoviedb.org/3/discover/movie?api_key=' +  api_key + '&sort_by=revenue.desc'\n",
    "\n",
    "response = requests.get(url).json()\n",
    "\n",
    "#From the results grab the results section which actually contains the data\n",
    "film_revenue = response[\"results\"]\n",
    "\n",
    "#We are looping through this number of pages to get the data for a total of over 1000 movies, since that is how many are in our dataset\n",
    "for page in range(2, 55):\n",
    "    try:\n",
    "        #Get results for each page and add to existing results\n",
    "        response = requests.get(url + f\"&page={page}\").json()\n",
    "        film_revenue.extend(response[\"results\"])\n",
    "    except:\n",
    "        pass\n",
    "\n"
   ]
  },
  {
   "cell_type": "code",
   "execution_count": 5,
   "metadata": {},
   "outputs": [],
   "source": [
    "#Create the dataframe to store the results of our API queries\n",
    "columns = ['film', 'revenue']\n",
    "df = pd.DataFrame(columns=columns)"
   ]
  },
  {
   "cell_type": "code",
   "execution_count": 6,
   "metadata": {},
   "outputs": [],
   "source": [
    "#For each movie we are looking into...\n",
    "for film in film_revenue:\n",
    "    #Get the actual data for the film and convert to json\n",
    "    film_revenue = requests.get('https://api.themoviedb.org/3/movie/'+ str(film['id']) +'?api_key='+ api_key+'&language=en-US')\n",
    "    film_revenue = film_revenue.json()\n",
    "    df.loc[len(df)]=[film['title'],film_revenue['revenue']] # store title and revenue in our dataframe    "
   ]
  },
  {
   "cell_type": "code",
   "execution_count": 9,
   "metadata": {},
   "outputs": [
    {
     "name": "stdout",
     "output_type": "stream",
     "text": [
      "                                                   film     revenue    id\n",
      "0                                        Watch Your Six  4999999999     1\n",
      "1                                                Avatar  2920357254     2\n",
      "2                                     Avengers: Endgame  2799439100     3\n",
      "3                                             Condemned  2470000000     4\n",
      "4                              Avatar: The Way of Water  2309660236     5\n",
      "...                                                 ...         ...   ...\n",
      "1075                                  The Scorpion King   165333180  1076\n",
      "1076                                        The Muppets   165184237  1077\n",
      "1077                                  Wonder Woman 1984   165160005  1078\n",
      "1078  Michael Jackson: HIStory World Tour - Live in ...   165000000  1079\n",
      "1079     Michael Jackson: HIStory Tour - Live in Munich   165000000  1080\n",
      "\n",
      "[1080 rows x 3 columns]\n"
     ]
    }
   ],
   "source": [
    "df['film']=df['film'].str.replace(',','') # clean up the data \n",
    "\n",
    "#Create an IDs column so that when we load this dataframe into SQL as a table, we have matching IDs between this table and our inventory table.\n",
    "#Having matching IDs will make it very easy to join this data into our inventory table\n",
    "ids = []\n",
    "for i in range(1080):\n",
    "    ids.append(i+1)\n",
    "df['id'] = ids\n",
    "print(df)\n",
    "\n",
    "df.to_csv('apidat.csv')"
   ]
  }
 ],
 "metadata": {
  "kernelspec": {
   "display_name": "Python 3.11.2 64-bit",
   "language": "python",
   "name": "python3"
  },
  "language_info": {
   "codemirror_mode": {
    "name": "ipython",
    "version": 3
   },
   "file_extension": ".py",
   "mimetype": "text/x-python",
   "name": "python",
   "nbconvert_exporter": "python",
   "pygments_lexer": "ipython3",
   "version": "3.11.2"
  },
  "orig_nbformat": 4,
  "vscode": {
   "interpreter": {
    "hash": "aee8b7b246df8f9039afb4144a1f6fd8d2ca17a180786b69acc140d282b71a49"
   }
  }
 },
 "nbformat": 4,
 "nbformat_minor": 2
}
